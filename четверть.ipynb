{
  "nbformat": 4,
  "nbformat_minor": 0,
  "metadata": {
    "colab": {
      "provenance": [],
      "authorship_tag": "ABX9TyNJ99z/rsyk5V/0auyNMb4B",
      "include_colab_link": true
    },
    "kernelspec": {
      "name": "python3",
      "display_name": "Python 3"
    },
    "language_info": {
      "name": "python"
    }
  },
  "cells": [
    {
      "cell_type": "markdown",
      "metadata": {
        "id": "view-in-github",
        "colab_type": "text"
      },
      "source": [
        "<a href=\"https://colab.research.google.com/github/Sonics-Bat/first-work/blob/main/%D1%87%D0%B5%D1%82%D0%B2%D0%B5%D1%80%D1%82%D1%8C.ipynb\" target=\"_parent\"><img src=\"https://colab.research.google.com/assets/colab-badge.svg\" alt=\"Open In Colab\"/></a>"
      ]
    },
    {
      "cell_type": "code",
      "execution_count": 2,
      "metadata": {
        "colab": {
          "base_uri": "https://localhost:8080/"
        },
        "id": "AwKd9jkIJiKL",
        "outputId": "0af94eb4-ca0a-4412-a320-2f497ca57f04"
      },
      "outputs": [
        {
          "output_type": "stream",
          "name": "stdout",
          "text": [
            "Введите ненулевое число x: 5\n",
            "Введите ненулевое число y: 8\n",
            "Это первая четверть\n"
          ]
        }
      ],
      "source": [
        "x = int(input('Введите ненулевое число x: '))\n",
        "y = int(input('Введите ненулевое число y: '))\n",
        "\n",
        "if (x>0 and y>0):\n",
        "    print('Это первая четверть')\n",
        "if (x>0 and y<0):\n",
        "    print('Это четвёртая четверть')\n",
        "if (x<0 and y>0):\n",
        "    print('Это вторая четверть')\n",
        "if(x<0 and y<0):\n",
        "    print('Это третья четверть')"
      ]
    }
  ]
}
{
  "nbformat": 4,
  "nbformat_minor": 0,
  "metadata": {
    "colab": {
      "provenance": [],
      "authorship_tag": "ABX9TyNrTRbZENvpc1EsQFfbIkeL",
      "include_colab_link": true
    },
    "kernelspec": {
      "name": "python3",
      "display_name": "Python 3"
    },
    "language_info": {
      "name": "python"
    }
  },
  "cells": [
    {
      "cell_type": "markdown",
      "metadata": {
        "id": "view-in-github",
        "colab_type": "text"
      },
      "source": [
        "<a href=\"https://colab.research.google.com/github/Sonics-Bat/first-work/blob/main/new_number.ipynb\" target=\"_parent\"><img src=\"https://colab.research.google.com/assets/colab-badge.svg\" alt=\"Open In Colab\"/></a>"
      ]
    },
    {
      "cell_type": "code",
      "execution_count": 1,
      "metadata": {
        "id": "Ot_NRZt58VOC",
        "colab": {
          "base_uri": "https://localhost:8080/"
        },
        "outputId": "d90a0d04-7c57-408f-e752-26932073d3ee"
      },
      "outputs": [
        {
          "output_type": "stream",
          "name": "stdout",
          "text": [
            "Введите число: 6\n",
            "число 6 умноженное на 2 равно: 12\n"
          ]
        }
      ],
      "source": [
        "number = int(input('Введите число: '))\n",
        "a = number * 2\n",
        "print('число', number, 'умноженное на 2 равно:', a)\n"
      ]
    }
  ]
}
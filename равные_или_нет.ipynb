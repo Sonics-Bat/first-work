{
  "nbformat": 4,
  "nbformat_minor": 0,
  "metadata": {
    "colab": {
      "provenance": [],
      "authorship_tag": "ABX9TyN9UEgghWwd3xy82URZ4612"
    },
    "kernelspec": {
      "name": "python3",
      "display_name": "Python 3"
    },
    "language_info": {
      "name": "python"
    }
  },
  "cells": [
    {
      "cell_type": "code",
      "execution_count": 1,
      "metadata": {
        "colab": {
          "base_uri": "https://localhost:8080/"
        },
        "id": "AwKd9jkIJiKL",
        "outputId": "24a3906b-8cdd-430c-bfca-8130cfcfbe96"
      },
      "outputs": [
        {
          "output_type": "stream",
          "name": "stdout",
          "text": [
            "Введите число a:5\n",
            "Введите число b:7\n",
            "Числа не равны\n"
          ]
        }
      ],
      "source": [
        "a = int(input('Введите число a:'))\n",
        "b = int(input('Введите число b:'))\n",
        "if a == b:\n",
        "    print('Числа равны')\n",
        "else:\n",
        "    print('Числа не равны')"
      ]
    }
  ]
}
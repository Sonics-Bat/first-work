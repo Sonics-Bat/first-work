{
  "nbformat": 4,
  "nbformat_minor": 0,
  "metadata": {
    "colab": {
      "provenance": [],
      "authorship_tag": "ABX9TyPkR75pSMG/Wu3itCprOCRY",
      "include_colab_link": true
    },
    "kernelspec": {
      "name": "python3",
      "display_name": "Python 3"
    },
    "language_info": {
      "name": "python"
    }
  },
  "cells": [
    {
      "cell_type": "markdown",
      "metadata": {
        "id": "view-in-github",
        "colab_type": "text"
      },
      "source": [
        "<a href=\"https://colab.research.google.com/github/Sonics-Bat/first-work/blob/main/%D1%87%D0%B5%D1%82%D0%B2%D0%B5%D1%80%D1%82%D1%8C1.ipynb\" target=\"_parent\"><img src=\"https://colab.research.google.com/assets/colab-badge.svg\" alt=\"Open In Colab\"/></a>"
      ]
    },
    {
      "cell_type": "code",
      "execution_count": 3,
      "metadata": {
        "colab": {
          "base_uri": "https://localhost:8080/"
        },
        "id": "AwKd9jkIJiKL",
        "outputId": "e3b63d26-427d-4b57-d3cb-b35fb8ec0d4d"
      },
      "outputs": [
        {
          "output_type": "stream",
          "name": "stdout",
          "text": [
            "Введите ненулевое число x: 4\n",
            "Введите ненулевое число y: -5\n",
            "Это четвёртая четверть\n"
          ]
        }
      ],
      "source": [
        "x = int(input('Введите ненулевое число x: '))\n",
        "y = int(input('Введите ненулевое число y: '))\n",
        "\n",
        "if (x>0 and y>0):\n",
        "    print('Это первая четверть')\n",
        "elif (x>0 and y<0):\n",
        "    print('Это четвёртая четверть')\n",
        "elif (x<0 and y>0):\n",
        "    print('Это вторая четверть')\n",
        "elif(x<0 and y<0):\n",
        "    print('Это третья четверть')"
      ]
    }
  ]
}
{
  "nbformat": 4,
  "nbformat_minor": 0,
  "metadata": {
    "colab": {
      "provenance": [],
      "name": "new привет.ipynb",
      "authorship_tag": "ABX9TyPit7VhlFm+Q60r1ItpEpue",
      "include_colab_link": true
    },
    "kernelspec": {
      "name": "python3",
      "display_name": "Python 3"
    },
    "language_info": {
      "name": "python"
    }
  },
  "cells": [
    {
      "cell_type": "markdown",
      "metadata": {
        "id": "view-in-github",
        "colab_type": "text"
      },
      "source": [
        "<a href=\"https://colab.research.google.com/github/Sonics-Bat/first-work/blob/main/new_%D0%BF%D1%80%D0%B8%D0%B2%D0%B5%D1%82.ipynb\" target=\"_parent\"><img src=\"https://colab.research.google.com/assets/colab-badge.svg\" alt=\"Open In Colab\"/></a>"
      ]
    },
    {
      "cell_type": "code",
      "execution_count": null,
      "metadata": {
        "id": "Ot_NRZt58VOC"
      },
      "outputs": [],
      "source": [
        "name = input('Введите ваше имя: ')\n",
        "print('Привет', name)\n"
      ]
    }
  ]
}
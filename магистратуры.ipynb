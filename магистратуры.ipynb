{
  "nbformat": 4,
  "nbformat_minor": 0,
  "metadata": {
    "colab": {
      "provenance": [],
      "authorship_tag": "ABX9TyMB/lj3Ol37vcDRx/JpTf42",
      "include_colab_link": true
    },
    "kernelspec": {
      "name": "python3",
      "display_name": "Python 3"
    },
    "language_info": {
      "name": "python"
    }
  },
  "cells": [
    {
      "cell_type": "markdown",
      "metadata": {
        "id": "view-in-github",
        "colab_type": "text"
      },
      "source": [
        "<a href=\"https://colab.research.google.com/github/Sonics-Bat/first-work/blob/main/%D0%BC%D0%B0%D0%B3%D0%B8%D1%81%D1%82%D1%80%D0%B0%D1%82%D1%83%D1%80%D1%8B.ipynb\" target=\"_parent\"><img src=\"https://colab.research.google.com/assets/colab-badge.svg\" alt=\"Open In Colab\"/></a>"
      ]
    },
    {
      "cell_type": "code",
      "execution_count": 3,
      "metadata": {
        "colab": {
          "base_uri": "https://localhost:8080/"
        },
        "id": "ZcIXVg2mjeOT",
        "outputId": "3187af0c-c7a5-4a49-a8c6-b65f7564a05b"
      },
      "outputs": [
        {
          "output_type": "stream",
          "name": "stdout",
          "text": [
            "42\n",
            "42 магистратуры\n"
          ]
        }
      ],
      "source": [
        "a = int(input())\n",
        "n = a%10\n",
        "if n==1:\n",
        "  print(a, \"магистратура\")\n",
        "elif 2<=n<=4:\n",
        "  print(a, \"магистратуры\")\n",
        "elif n==11 or n==12 or n==13 or n ==14:\n",
        "  print(a, \"магистратур\")\n",
        "else:\n",
        "  print(a, \"магистратур\")"
      ]
    }
  ]
}